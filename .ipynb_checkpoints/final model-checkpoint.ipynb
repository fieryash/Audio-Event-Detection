{
 "cells": [
  {
   "cell_type": "markdown",
   "metadata": {
    "slideshow": {
     "slide_type": "slide"
    }
   },
   "source": [
    "# DATA IMPORTING"
   ]
  },
  {
   "cell_type": "code",
   "execution_count": 1,
   "metadata": {
    "scrolled": true,
    "slideshow": {
     "slide_type": "slide"
    }
   },
   "outputs": [
    {
     "name": "stderr",
     "output_type": "stream",
     "text": [
      "Using TensorFlow backend.\n"
     ]
    }
   ],
   "source": [
    "# importing modules\n",
    "import numpy as np\n",
    "import pandas as pd\n",
    "import matplotlib.pyplot as plt\n",
    "\n",
    "import keras\n",
    "from keras.utils import to_categorical\n",
    "\n",
    "data = pd.read_pickle('./train/featurised.csv') # reading pickle file for training\n",
    "\n",
    "tester = pd.read_pickle('./test/featurised.csv') # reading pickle file for testing"
   ]
  },
  {
   "cell_type": "code",
   "execution_count": 2,
   "metadata": {
    "slideshow": {
     "slide_type": "slide"
    }
   },
   "outputs": [
    {
     "data": {
      "text/html": [
       "<div>\n",
       "<style scoped>\n",
       "    .dataframe tbody tr th:only-of-type {\n",
       "        vertical-align: middle;\n",
       "    }\n",
       "\n",
       "    .dataframe tbody tr th {\n",
       "        vertical-align: top;\n",
       "    }\n",
       "\n",
       "    .dataframe thead th {\n",
       "        text-align: right;\n",
       "    }\n",
       "</style>\n",
       "<table border=\"1\" class=\"dataframe\">\n",
       "  <thead>\n",
       "    <tr style=\"text-align: right;\">\n",
       "      <th></th>\n",
       "      <th>label</th>\n",
       "      <th>music</th>\n",
       "    </tr>\n",
       "  </thead>\n",
       "  <tbody>\n",
       "    <tr>\n",
       "      <th>0</th>\n",
       "      <td>babycry</td>\n",
       "      <td>[[0.7639337425550246, 0.6550242365052964, 0.42...</td>\n",
       "    </tr>\n",
       "    <tr>\n",
       "      <th>1</th>\n",
       "      <td>babycry</td>\n",
       "      <td>[[-0.543597299526563, -0.9428291340167716, -1....</td>\n",
       "    </tr>\n",
       "    <tr>\n",
       "      <th>2</th>\n",
       "      <td>none</td>\n",
       "      <td>[[-0.1903899039644559, 0.1827240966906672, 0.2...</td>\n",
       "    </tr>\n",
       "    <tr>\n",
       "      <th>3</th>\n",
       "      <td>none</td>\n",
       "      <td>[[1.5529618435211259, 1.3576098636501042, 1.47...</td>\n",
       "    </tr>\n",
       "    <tr>\n",
       "      <th>4</th>\n",
       "      <td>none</td>\n",
       "      <td>[[1.3362740413911116, 1.4712855405769114, 1.28...</td>\n",
       "    </tr>\n",
       "  </tbody>\n",
       "</table>\n",
       "</div>"
      ],
      "text/plain": [
       "     label                                              music\n",
       "0  babycry  [[0.7639337425550246, 0.6550242365052964, 0.42...\n",
       "1  babycry  [[-0.543597299526563, -0.9428291340167716, -1....\n",
       "2     none  [[-0.1903899039644559, 0.1827240966906672, 0.2...\n",
       "3     none  [[1.5529618435211259, 1.3576098636501042, 1.47...\n",
       "4     none  [[1.3362740413911116, 1.4712855405769114, 1.28..."
      ]
     },
     "execution_count": 2,
     "metadata": {},
     "output_type": "execute_result"
    }
   ],
   "source": [
    "data=data.drop(columns=['start', 'stop']) # deleting unwanted columns\n",
    "data.infer_objects() # determining datatypes present in dataframe\n",
    "type(data.iloc[0,1])\n",
    "data.head()"
   ]
  },
  {
   "cell_type": "code",
   "execution_count": 3,
   "metadata": {
    "slideshow": {
     "slide_type": "fragment"
    }
   },
   "outputs": [
    {
     "data": {
      "text/plain": [
       "numpy.ndarray"
      ]
     },
     "execution_count": 3,
     "metadata": {},
     "output_type": "execute_result"
    }
   ],
   "source": [
    "tester=tester.drop(columns=['start', 'stop']) # deleting unwanted columns\n",
    "tester.infer_objects() # determining datatypes present in dataframe\n",
    "type(tester.iloc[0,1]) # verifying datatype"
   ]
  },
  {
   "cell_type": "code",
   "execution_count": 4,
   "metadata": {
    "slideshow": {
     "slide_type": "slide"
    }
   },
   "outputs": [
    {
     "data": {
      "text/plain": [
       "(1491, 40, 1292)"
      ]
     },
     "execution_count": 4,
     "metadata": {},
     "output_type": "execute_result"
    }
   ],
   "source": [
    "X = np.array(data.iloc[:,1].tolist()) # features for training\n",
    "Y = np.array(data.iloc[:,0].tolist()) # labels for training\n",
    "\n",
    "from sklearn.preprocessing import LabelEncoder\n",
    "le = LabelEncoder()\n",
    "le.fit(Y) \n",
    "Y_classes = le.transform(Y) # Encode labels with value between 0 and n_classes-1.\n",
    "Y_classes\n",
    "yy = to_categorical(Y_classes) # One-hot encoding of labels\n",
    "X.shape"
   ]
  },
  {
   "cell_type": "code",
   "execution_count": 5,
   "metadata": {
    "slideshow": {
     "slide_type": "fragment"
    }
   },
   "outputs": [
    {
     "data": {
      "text/plain": [
       "(1496, 40, 1292)"
      ]
     },
     "execution_count": 5,
     "metadata": {},
     "output_type": "execute_result"
    }
   ],
   "source": [
    "X_test = np.array(tester.iloc[:,1].tolist()) # features for testing\n",
    "Y_test = np.array(tester.iloc[:,0].tolist()) # labels for testing\n",
    "\n",
    "le = LabelEncoder()\n",
    "le.fit(Y_test)\n",
    "Y_classes_test = le.transform(Y_test) # Encode labels with value between 0 and n_classes-1.\n",
    "Y_classes_test\n",
    "yy_test = to_categorical(Y_classes_test) # One-hot encoding of labels\n",
    "X_test.shape"
   ]
  },
  {
   "cell_type": "markdown",
   "metadata": {
    "slideshow": {
     "slide_type": "slide"
    }
   },
   "source": [
    "# MODEL DESIGN"
   ]
  },
  {
   "cell_type": "code",
   "execution_count": 6,
   "metadata": {
    "scrolled": true,
    "slideshow": {
     "slide_type": "slide"
    }
   },
   "outputs": [],
   "source": [
    "x_train=X\n",
    "y_train=yy\n",
    "x_test=X_test\n",
    "y_test=yy_test\n",
    "\n",
    "# importing modules for building Neural Network Model\n",
    "from keras.models import Sequential\n",
    "from keras.layers import Dense, Dropout, Activation\n",
    "from keras.layers import Conv2D, MaxPooling2D, GlobalAveragePooling2D\n",
    "from keras.optimizers import Adam\n",
    "from sklearn import metrics \n",
    "\n",
    "# defining features for reshaping \n",
    "num_rows = 40\n",
    "num_columns = 1292\n",
    "num_channels = 1\n",
    "\n",
    "# reshaping the features for CNN\n",
    "x_train = x_train.reshape(x_train.shape[0], num_rows, num_columns, num_channels)\n",
    "x_test = x_test.reshape(x_test.shape[0], num_rows, num_columns, num_channels)\n",
    "\n",
    "num_labels = yy.shape[1]"
   ]
  },
  {
   "cell_type": "code",
   "execution_count": 7,
   "metadata": {
    "slideshow": {
     "slide_type": "slide"
    }
   },
   "outputs": [
    {
     "name": "stderr",
     "output_type": "stream",
     "text": [
      "WARNING: Logging before flag parsing goes to stderr.\n",
      "W0711 14:10:44.832281 140685958248256 deprecation_wrapper.py:119] From /home/soumya/.local/lib/python3.7/site-packages/keras/backend/tensorflow_backend.py:74: The name tf.get_default_graph is deprecated. Please use tf.compat.v1.get_default_graph instead.\n",
      "\n",
      "W0711 14:10:44.844720 140685958248256 deprecation_wrapper.py:119] From /home/soumya/.local/lib/python3.7/site-packages/keras/backend/tensorflow_backend.py:517: The name tf.placeholder is deprecated. Please use tf.compat.v1.placeholder instead.\n",
      "\n",
      "W0711 14:10:44.852897 140685958248256 deprecation_wrapper.py:119] From /home/soumya/.local/lib/python3.7/site-packages/keras/backend/tensorflow_backend.py:4138: The name tf.random_uniform is deprecated. Please use tf.random.uniform instead.\n",
      "\n",
      "W0711 14:10:44.870703 140685958248256 deprecation_wrapper.py:119] From /home/soumya/.local/lib/python3.7/site-packages/keras/backend/tensorflow_backend.py:3976: The name tf.nn.max_pool is deprecated. Please use tf.nn.max_pool2d instead.\n",
      "\n",
      "W0711 14:10:44.877439 140685958248256 deprecation_wrapper.py:119] From /home/soumya/.local/lib/python3.7/site-packages/keras/backend/tensorflow_backend.py:133: The name tf.placeholder_with_default is deprecated. Please use tf.compat.v1.placeholder_with_default instead.\n",
      "\n",
      "W0711 14:10:44.885209 140685958248256 deprecation.py:506] From /home/soumya/.local/lib/python3.7/site-packages/keras/backend/tensorflow_backend.py:3445: calling dropout (from tensorflow.python.ops.nn_ops) with keep_prob is deprecated and will be removed in a future version.\n",
      "Instructions for updating:\n",
      "Please use `rate` instead of `keep_prob`. Rate should be set to `rate = 1 - keep_prob`.\n"
     ]
    }
   ],
   "source": [
    "# Construct model \n",
    "model = Sequential()\n",
    "\n",
    "model.add(Conv2D(filters=16, kernel_size=2, input_shape=(num_rows, num_columns, num_channels), activation='relu'))\n",
    "model.add(MaxPooling2D(pool_size=2))\n",
    "model.add(Dropout(0.3))\n",
    "\n",
    "model.add(Conv2D(filters=32, kernel_size=2, activation='relu'))\n",
    "model.add(MaxPooling2D(pool_size=2))\n",
    "model.add(Dropout(0.3))\n",
    "\n",
    "model.add(Conv2D(filters=64, kernel_size=2, activation='relu'))\n",
    "model.add(MaxPooling2D(pool_size=2))\n",
    "model.add(Dropout(0.2))\n",
    "\n",
    "model.add(Conv2D(filters=128, kernel_size=1, activation='relu'))\n",
    "model.add(MaxPooling2D(pool_size=1))\n",
    "model.add(Dropout(0.2))\n",
    "\n",
    "model.add(GlobalAveragePooling2D())\n",
    "\n",
    "model.add(keras.layers.Reshape((-1,1)))\n",
    "model.add(keras.layers.SimpleRNN(20,use_bias=True))\n",
    "\n",
    "model.add(Dense(num_labels, activation='softmax'))"
   ]
  },
  {
   "cell_type": "code",
   "execution_count": 8,
   "metadata": {
    "scrolled": false,
    "slideshow": {
     "slide_type": "slide"
    }
   },
   "outputs": [
    {
     "name": "stderr",
     "output_type": "stream",
     "text": [
      "W0711 14:10:45.117265 140685958248256 deprecation_wrapper.py:119] From /home/soumya/.local/lib/python3.7/site-packages/keras/optimizers.py:790: The name tf.train.Optimizer is deprecated. Please use tf.compat.v1.train.Optimizer instead.\n",
      "\n",
      "W0711 14:10:45.156877 140685958248256 deprecation_wrapper.py:119] From /home/soumya/.local/lib/python3.7/site-packages/keras/backend/tensorflow_backend.py:3295: The name tf.log is deprecated. Please use tf.math.log instead.\n",
      "\n"
     ]
    },
    {
     "name": "stdout",
     "output_type": "stream",
     "text": [
      "_________________________________________________________________\n",
      "Layer (type)                 Output Shape              Param #   \n",
      "=================================================================\n",
      "conv2d_1 (Conv2D)            (None, 39, 1291, 16)      80        \n",
      "_________________________________________________________________\n",
      "max_pooling2d_1 (MaxPooling2 (None, 19, 645, 16)       0         \n",
      "_________________________________________________________________\n",
      "dropout_1 (Dropout)          (None, 19, 645, 16)       0         \n",
      "_________________________________________________________________\n",
      "conv2d_2 (Conv2D)            (None, 18, 644, 32)       2080      \n",
      "_________________________________________________________________\n",
      "max_pooling2d_2 (MaxPooling2 (None, 9, 322, 32)        0         \n",
      "_________________________________________________________________\n",
      "dropout_2 (Dropout)          (None, 9, 322, 32)        0         \n",
      "_________________________________________________________________\n",
      "conv2d_3 (Conv2D)            (None, 8, 321, 64)        8256      \n",
      "_________________________________________________________________\n",
      "max_pooling2d_3 (MaxPooling2 (None, 4, 160, 64)        0         \n",
      "_________________________________________________________________\n",
      "dropout_3 (Dropout)          (None, 4, 160, 64)        0         \n",
      "_________________________________________________________________\n",
      "conv2d_4 (Conv2D)            (None, 4, 160, 128)       8320      \n",
      "_________________________________________________________________\n",
      "max_pooling2d_4 (MaxPooling2 (None, 4, 160, 128)       0         \n",
      "_________________________________________________________________\n",
      "dropout_4 (Dropout)          (None, 4, 160, 128)       0         \n",
      "_________________________________________________________________\n",
      "global_average_pooling2d_1 ( (None, 128)               0         \n",
      "_________________________________________________________________\n",
      "reshape_1 (Reshape)          (None, 128, 1)            0         \n",
      "_________________________________________________________________\n",
      "simple_rnn_1 (SimpleRNN)     (None, 20)                440       \n",
      "_________________________________________________________________\n",
      "dense_1 (Dense)              (None, 4)                 84        \n",
      "=================================================================\n",
      "Total params: 19,260\n",
      "Trainable params: 19,260\n",
      "Non-trainable params: 0\n",
      "_________________________________________________________________\n",
      "1496/1496 [==============================] - 5s 3ms/step\n",
      "Pre-training accuracy: 16.7112%\n"
     ]
    }
   ],
   "source": [
    "adam=keras.optimizers.Adam(lr=0.005) # defining optimizer learning rate\n",
    "model.compile(loss='categorical_crossentropy', metrics=['accuracy'], optimizer=adam) #compiling model\n",
    "model.summary()\n",
    "\n",
    "# Calculate pre-training accuracy \n",
    "score = model.evaluate(x_test, y_test, verbose=1)\n",
    "accuracy = 100*score[1]\n",
    "\n",
    "print(\"Pre-training accuracy: %.4f%%\" % accuracy) "
   ]
  },
  {
   "cell_type": "code",
   "execution_count": 9,
   "metadata": {
    "slideshow": {
     "slide_type": "slide"
    }
   },
   "outputs": [
    {
     "data": {
      "text/plain": [
       "{0: 1.2, 1: 2.0, 2: 2.0, 3: 0.25}"
      ]
     },
     "execution_count": 9,
     "metadata": {},
     "output_type": "execute_result"
    }
   ],
   "source": [
    "from sklearn.utils import class_weight\n",
    "\n",
    "weights={0:1.2,1:2.0,2:2.0,3:0.25}\n",
    "\n",
    "weights"
   ]
  },
  {
   "cell_type": "markdown",
   "metadata": {
    "slideshow": {
     "slide_type": "slide"
    }
   },
   "source": [
    "# MODEL TRAINING"
   ]
  },
  {
   "cell_type": "code",
   "execution_count": 10,
   "metadata": {
    "scrolled": false,
    "slideshow": {
     "slide_type": "slide"
    }
   },
   "outputs": [
    {
     "name": "stderr",
     "output_type": "stream",
     "text": [
      "W0711 14:10:50.462393 140685958248256 deprecation.py:323] From /usr/lib/python3.7/site-packages/tensorflow/python/ops/math_grad.py:1250: add_dispatch_support.<locals>.wrapper (from tensorflow.python.ops.array_ops) is deprecated and will be removed in a future version.\n",
      "Instructions for updating:\n",
      "Use tf.where in 2.0, which has the same broadcast rule as np.where\n"
     ]
    },
    {
     "name": "stdout",
     "output_type": "stream",
     "text": [
      "Train on 1341 samples, validate on 150 samples\n",
      "Epoch 1/120\n",
      " - 6s - loss: 1.3022 - acc: 0.1805 - val_loss: 1.5759 - val_acc: 0.0000e+00\n",
      "Epoch 2/120\n",
      " - 5s - loss: 1.2920 - acc: 0.1842 - val_loss: 1.9237 - val_acc: 0.0000e+00\n",
      "Epoch 3/120\n",
      " - 5s - loss: 1.3016 - acc: 0.1849 - val_loss: 1.6056 - val_acc: 0.0000e+00\n",
      "Epoch 4/120\n",
      " - 5s - loss: 1.3061 - acc: 0.1864 - val_loss: 1.5395 - val_acc: 0.0000e+00\n",
      "Epoch 5/120\n",
      " - 5s - loss: 1.2917 - acc: 0.1864 - val_loss: 1.5882 - val_acc: 0.0000e+00\n",
      "Epoch 6/120\n",
      " - 5s - loss: 1.2725 - acc: 0.1879 - val_loss: 1.8515 - val_acc: 0.0000e+00\n",
      "Epoch 7/120\n",
      " - 5s - loss: 1.2718 - acc: 0.1946 - val_loss: 1.4540 - val_acc: 0.0000e+00\n",
      "Epoch 8/120\n",
      " - 5s - loss: 1.2439 - acc: 0.2304 - val_loss: 1.5469 - val_acc: 0.0000e+00\n",
      "Epoch 9/120\n",
      " - 5s - loss: 1.2495 - acc: 0.2342 - val_loss: 1.6891 - val_acc: 0.0000e+00\n",
      "Epoch 10/120\n",
      " - 5s - loss: 1.2458 - acc: 0.2394 - val_loss: 1.4882 - val_acc: 0.0000e+00\n",
      "Epoch 11/120\n",
      " - 5s - loss: 1.2359 - acc: 0.2312 - val_loss: 1.7746 - val_acc: 0.0000e+00\n",
      "Epoch 12/120\n",
      " - 5s - loss: 1.2245 - acc: 0.2446 - val_loss: 1.5787 - val_acc: 0.0000e+00\n",
      "Epoch 13/120\n",
      " - 5s - loss: 1.2321 - acc: 0.2282 - val_loss: 1.9499 - val_acc: 0.0000e+00\n",
      "Epoch 14/120\n",
      " - 5s - loss: 1.2218 - acc: 0.2386 - val_loss: 1.4133 - val_acc: 0.0000e+00\n",
      "Epoch 15/120\n",
      " - 5s - loss: 1.2397 - acc: 0.2349 - val_loss: 1.6098 - val_acc: 0.0000e+00\n",
      "Epoch 16/120\n",
      " - 5s - loss: 1.1881 - acc: 0.2476 - val_loss: 1.4269 - val_acc: 0.0000e+00\n",
      "Epoch 17/120\n",
      " - 5s - loss: 1.1247 - acc: 0.2722 - val_loss: 1.1882 - val_acc: 0.1533\n",
      "Epoch 18/120\n",
      " - 5s - loss: 1.0533 - acc: 0.2975 - val_loss: 1.2111 - val_acc: 0.2133\n",
      "Epoch 19/120\n",
      " - 5s - loss: 0.9988 - acc: 0.3057 - val_loss: 1.2100 - val_acc: 0.0667\n",
      "Epoch 20/120\n",
      " - 5s - loss: 0.9993 - acc: 0.3057 - val_loss: 1.3615 - val_acc: 0.0000e+00\n",
      "Epoch 21/120\n",
      " - 5s - loss: 0.9769 - acc: 0.3199 - val_loss: 1.1889 - val_acc: 0.1067\n",
      "Epoch 22/120\n",
      " - 5s - loss: 0.9816 - acc: 0.3132 - val_loss: 1.1284 - val_acc: 0.3467\n",
      "Epoch 23/120\n",
      " - 5s - loss: 1.0410 - acc: 0.2908 - val_loss: 1.3255 - val_acc: 0.0000e+00\n",
      "Epoch 24/120\n",
      " - 5s - loss: 0.9822 - acc: 0.3117 - val_loss: 1.3781 - val_acc: 0.0000e+00\n",
      "Epoch 25/120\n",
      " - 5s - loss: 0.9669 - acc: 0.3192 - val_loss: 1.1736 - val_acc: 0.3067\n",
      "Epoch 26/120\n",
      " - 5s - loss: 0.9746 - acc: 0.3184 - val_loss: 1.2995 - val_acc: 0.0000e+00\n",
      "Epoch 27/120\n",
      " - 5s - loss: 0.9772 - acc: 0.3035 - val_loss: 1.2791 - val_acc: 0.0000e+00\n",
      "Epoch 28/120\n",
      " - 5s - loss: 0.9594 - acc: 0.3087 - val_loss: 1.3411 - val_acc: 0.0000e+00\n",
      "Epoch 29/120\n",
      " - 5s - loss: 0.9733 - acc: 0.3132 - val_loss: 1.4229 - val_acc: 0.0000e+00\n",
      "Epoch 30/120\n",
      " - 5s - loss: 0.9350 - acc: 0.3274 - val_loss: 1.2218 - val_acc: 0.0600\n",
      "Epoch 31/120\n",
      " - 5s - loss: 0.9428 - acc: 0.3266 - val_loss: 1.5751 - val_acc: 0.0200\n",
      "Epoch 32/120\n",
      " - 5s - loss: 0.9601 - acc: 0.3244 - val_loss: 1.2975 - val_acc: 0.2000\n",
      "Epoch 33/120\n",
      " - 5s - loss: 0.9529 - acc: 0.3214 - val_loss: 1.3515 - val_acc: 0.0933\n",
      "Epoch 34/120\n",
      " - 5s - loss: 0.9082 - acc: 0.3438 - val_loss: 1.3612 - val_acc: 0.0733\n",
      "Epoch 35/120\n",
      " - 5s - loss: 0.9050 - acc: 0.3423 - val_loss: 1.1890 - val_acc: 0.3133\n",
      "Epoch 36/120\n",
      " - 5s - loss: 0.9110 - acc: 0.3393 - val_loss: 1.4719 - val_acc: 0.0933\n",
      "Epoch 37/120\n",
      " - 5s - loss: 0.9011 - acc: 0.3527 - val_loss: 1.1365 - val_acc: 0.2933\n",
      "Epoch 38/120\n",
      " - 5s - loss: 0.8775 - acc: 0.3676 - val_loss: 1.1724 - val_acc: 0.2933\n",
      "Epoch 39/120\n",
      " - 5s - loss: 0.8715 - acc: 0.3624 - val_loss: 1.0748 - val_acc: 0.2800\n",
      "Epoch 40/120\n",
      " - 5s - loss: 0.8423 - acc: 0.3908 - val_loss: 0.9753 - val_acc: 0.4667\n",
      "Epoch 41/120\n",
      " - 5s - loss: 0.8576 - acc: 0.4094 - val_loss: 1.3362 - val_acc: 0.2267\n",
      "Epoch 42/120\n",
      " - 5s - loss: 0.8002 - acc: 0.4072 - val_loss: 1.3690 - val_acc: 0.3133\n",
      "Epoch 43/120\n",
      " - 5s - loss: 0.8315 - acc: 0.4497 - val_loss: 1.0171 - val_acc: 0.3267\n",
      "Epoch 44/120\n",
      " - 5s - loss: 0.8040 - acc: 0.3878 - val_loss: 1.1435 - val_acc: 0.4600\n",
      "Epoch 45/120\n",
      " - 5s - loss: 0.8120 - acc: 0.4758 - val_loss: 1.0173 - val_acc: 0.4267\n",
      "Epoch 46/120\n",
      " - 5s - loss: 0.7725 - acc: 0.4303 - val_loss: 1.2544 - val_acc: 0.4200\n",
      "Epoch 47/120\n",
      " - 5s - loss: 0.7639 - acc: 0.4265 - val_loss: 0.9518 - val_acc: 0.3400\n",
      "Epoch 48/120\n",
      " - 5s - loss: 0.7604 - acc: 0.4817 - val_loss: 1.0131 - val_acc: 0.4400\n",
      "Epoch 49/120\n",
      " - 5s - loss: 0.8171 - acc: 0.3997 - val_loss: 0.9147 - val_acc: 0.4933\n",
      "Epoch 50/120\n",
      " - 5s - loss: 0.7684 - acc: 0.4765 - val_loss: 0.8734 - val_acc: 0.4133\n",
      "Epoch 51/120\n",
      " - 5s - loss: 0.7667 - acc: 0.4131 - val_loss: 1.2496 - val_acc: 0.4267\n",
      "Epoch 52/120\n",
      " - 5s - loss: 0.7191 - acc: 0.4467 - val_loss: 1.6235 - val_acc: 0.2533\n",
      "Epoch 53/120\n",
      " - 5s - loss: 0.7636 - acc: 0.4437 - val_loss: 0.8446 - val_acc: 0.5933\n",
      "Epoch 54/120\n",
      " - 5s - loss: 0.7768 - acc: 0.4735 - val_loss: 1.4366 - val_acc: 0.3933\n",
      "Epoch 55/120\n",
      " - 5s - loss: 0.7246 - acc: 0.4855 - val_loss: 1.0071 - val_acc: 0.5333\n",
      "Epoch 56/120\n",
      " - 5s - loss: 0.7208 - acc: 0.4467 - val_loss: 0.6427 - val_acc: 0.4600\n",
      "Epoch 57/120\n",
      " - 5s - loss: 0.7035 - acc: 0.4862 - val_loss: 1.0360 - val_acc: 0.3667\n",
      "Epoch 58/120\n",
      " - 5s - loss: 0.7175 - acc: 0.4221 - val_loss: 0.8769 - val_acc: 0.6200\n",
      "Epoch 59/120\n",
      " - 5s - loss: 0.7148 - acc: 0.4549 - val_loss: 1.0126 - val_acc: 0.5533\n",
      "Epoch 60/120\n",
      " - 5s - loss: 0.6606 - acc: 0.5339 - val_loss: 0.8083 - val_acc: 0.4133\n",
      "Epoch 61/120\n",
      " - 5s - loss: 0.6448 - acc: 0.4750 - val_loss: 0.8825 - val_acc: 0.5933\n",
      "Epoch 62/120\n",
      " - 5s - loss: 0.6902 - acc: 0.4691 - val_loss: 1.0887 - val_acc: 0.5800\n",
      "Epoch 63/120\n",
      " - 5s - loss: 0.6701 - acc: 0.5600 - val_loss: 0.7968 - val_acc: 0.6200\n",
      "Epoch 64/120\n",
      " - 5s - loss: 0.6426 - acc: 0.5675 - val_loss: 0.7027 - val_acc: 0.4333\n",
      "Epoch 65/120\n",
      " - 5s - loss: 0.6207 - acc: 0.5123 - val_loss: 0.6766 - val_acc: 0.4333\n",
      "Epoch 66/120\n",
      " - 5s - loss: 0.6328 - acc: 0.5369 - val_loss: 0.6821 - val_acc: 0.6800\n",
      "Epoch 67/120\n",
      " - 5s - loss: 0.6430 - acc: 0.5809 - val_loss: 0.7356 - val_acc: 0.4267\n",
      "Epoch 68/120\n",
      " - 5s - loss: 0.6082 - acc: 0.5921 - val_loss: 0.8092 - val_acc: 0.6800\n",
      "Epoch 69/120\n",
      " - 5s - loss: 0.6039 - acc: 0.6301 - val_loss: 0.7327 - val_acc: 0.7200\n",
      "Epoch 70/120\n",
      " - 5s - loss: 0.5885 - acc: 0.6063 - val_loss: 0.9858 - val_acc: 0.5933\n",
      "Epoch 71/120\n",
      " - 5s - loss: 0.6082 - acc: 0.6130 - val_loss: 0.6684 - val_acc: 0.7000\n",
      "Epoch 72/120\n",
      " - 5s - loss: 0.5858 - acc: 0.6048 - val_loss: 0.6988 - val_acc: 0.6667\n",
      "Epoch 73/120\n",
      " - 5s - loss: 0.6147 - acc: 0.6137 - val_loss: 0.6096 - val_acc: 0.4200\n",
      "Epoch 74/120\n",
      " - 5s - loss: 0.6117 - acc: 0.5735 - val_loss: 0.7819 - val_acc: 0.7000\n",
      "Epoch 75/120\n",
      " - 5s - loss: 0.5596 - acc: 0.6652 - val_loss: 0.7116 - val_acc: 0.7467\n",
      "Epoch 76/120\n",
      " - 5s - loss: 0.5930 - acc: 0.5362 - val_loss: 0.9737 - val_acc: 0.6067\n",
      "Epoch 77/120\n",
      " - 5s - loss: 0.5870 - acc: 0.6391 - val_loss: 0.9200 - val_acc: 0.5800\n",
      "Epoch 78/120\n",
      " - 5s - loss: 0.5685 - acc: 0.6607 - val_loss: 0.9034 - val_acc: 0.5200\n",
      "Epoch 79/120\n",
      " - 5s - loss: 0.5430 - acc: 0.6532 - val_loss: 0.5657 - val_acc: 0.7533\n",
      "Epoch 80/120\n",
      " - 5s - loss: 0.5571 - acc: 0.6771 - val_loss: 0.9144 - val_acc: 0.5400\n",
      "Epoch 81/120\n",
      " - 5s - loss: 0.5674 - acc: 0.6532 - val_loss: 1.2302 - val_acc: 0.4600\n",
      "Epoch 82/120\n",
      " - 5s - loss: 0.5468 - acc: 0.6421 - val_loss: 0.8354 - val_acc: 0.5800\n",
      "Epoch 83/120\n",
      " - 5s - loss: 0.5469 - acc: 0.6711 - val_loss: 0.7897 - val_acc: 0.6733\n",
      "Epoch 84/120\n",
      " - 5s - loss: 0.5196 - acc: 0.6786 - val_loss: 1.3125 - val_acc: 0.4267\n",
      "Epoch 85/120\n",
      " - 5s - loss: 0.5324 - acc: 0.6525 - val_loss: 0.7207 - val_acc: 0.6200\n",
      "Epoch 86/120\n",
      " - 5s - loss: 0.5571 - acc: 0.6048 - val_loss: 0.5544 - val_acc: 0.7533\n",
      "Epoch 87/120\n",
      " - 5s - loss: 0.5455 - acc: 0.6704 - val_loss: 0.9078 - val_acc: 0.6467\n",
      "Epoch 88/120\n",
      " - 5s - loss: 0.5176 - acc: 0.6801 - val_loss: 0.6492 - val_acc: 0.7600\n",
      "Epoch 89/120\n",
      " - 5s - loss: 0.5224 - acc: 0.6682 - val_loss: 0.9178 - val_acc: 0.5933\n",
      "Epoch 90/120\n",
      " - 5s - loss: 0.5086 - acc: 0.6644 - val_loss: 0.6850 - val_acc: 0.7200\n",
      "Epoch 91/120\n",
      " - 5s - loss: 0.4999 - acc: 0.6756 - val_loss: 0.8771 - val_acc: 0.6333\n",
      "Epoch 92/120\n",
      " - 5s - loss: 0.5375 - acc: 0.6741 - val_loss: 0.9121 - val_acc: 0.5867\n",
      "Epoch 93/120\n",
      " - 5s - loss: 0.5167 - acc: 0.6674 - val_loss: 0.7359 - val_acc: 0.7400\n",
      "Epoch 94/120\n",
      " - 5s - loss: 0.5292 - acc: 0.6913 - val_loss: 1.2288 - val_acc: 0.4800\n",
      "Epoch 95/120\n",
      " - 5s - loss: 0.5338 - acc: 0.6600 - val_loss: 0.7807 - val_acc: 0.7400\n"
     ]
    },
    {
     "name": "stdout",
     "output_type": "stream",
     "text": [
      "Epoch 96/120\n",
      " - 5s - loss: 0.5233 - acc: 0.6943 - val_loss: 0.6806 - val_acc: 0.6933\n",
      "Epoch 97/120\n",
      " - 5s - loss: 0.5092 - acc: 0.6957 - val_loss: 0.5934 - val_acc: 0.6933\n",
      "Epoch 98/120\n",
      " - 5s - loss: 0.5183 - acc: 0.7002 - val_loss: 0.7300 - val_acc: 0.6733\n",
      "Epoch 99/120\n",
      " - 5s - loss: 0.5151 - acc: 0.6629 - val_loss: 0.6278 - val_acc: 0.7333\n",
      "Epoch 100/120\n",
      " - 5s - loss: 0.5173 - acc: 0.6764 - val_loss: 0.7346 - val_acc: 0.6800\n",
      "Epoch 101/120\n",
      " - 5s - loss: 0.4785 - acc: 0.6831 - val_loss: 0.6074 - val_acc: 0.6200\n",
      "Epoch 102/120\n",
      " - 5s - loss: 0.4781 - acc: 0.6749 - val_loss: 0.6537 - val_acc: 0.6733\n",
      "Epoch 103/120\n",
      " - 5s - loss: 0.4944 - acc: 0.6704 - val_loss: 0.4873 - val_acc: 0.7267\n",
      "Epoch 104/120\n",
      " - 5s - loss: 0.4755 - acc: 0.7062 - val_loss: 0.7787 - val_acc: 0.7133\n",
      "Epoch 105/120\n",
      " - 5s - loss: 0.4976 - acc: 0.6786 - val_loss: 0.5165 - val_acc: 0.7800\n",
      "Epoch 106/120\n",
      " - 5s - loss: 0.4927 - acc: 0.6935 - val_loss: 0.5293 - val_acc: 0.6667\n",
      "Epoch 107/120\n",
      " - 5s - loss: 0.5010 - acc: 0.6868 - val_loss: 0.6493 - val_acc: 0.6667\n",
      "Epoch 108/120\n",
      " - 5s - loss: 0.4725 - acc: 0.6838 - val_loss: 0.6245 - val_acc: 0.7000\n",
      "Epoch 109/120\n",
      " - 5s - loss: 0.5042 - acc: 0.6935 - val_loss: 0.8723 - val_acc: 0.6400\n",
      "Epoch 110/120\n",
      " - 5s - loss: 0.5029 - acc: 0.7107 - val_loss: 0.6161 - val_acc: 0.7000\n",
      "Epoch 111/120\n",
      " - 5s - loss: 0.4982 - acc: 0.6831 - val_loss: 0.5461 - val_acc: 0.7733\n",
      "Epoch 112/120\n",
      " - 5s - loss: 0.4683 - acc: 0.7360 - val_loss: 0.5216 - val_acc: 0.7667\n",
      "Epoch 113/120\n",
      " - 5s - loss: 0.4752 - acc: 0.6682 - val_loss: 0.5295 - val_acc: 0.6933\n",
      "Epoch 114/120\n",
      " - 5s - loss: 0.4823 - acc: 0.7204 - val_loss: 0.5968 - val_acc: 0.7467\n",
      "Epoch 115/120\n",
      " - 5s - loss: 0.4624 - acc: 0.7099 - val_loss: 0.5125 - val_acc: 0.7933\n",
      "Epoch 116/120\n",
      " - 5s - loss: 0.4578 - acc: 0.7069 - val_loss: 0.5136 - val_acc: 0.8133\n",
      "Epoch 117/120\n",
      " - 5s - loss: 0.5137 - acc: 0.6734 - val_loss: 0.4778 - val_acc: 0.8000\n",
      "Epoch 118/120\n",
      " - 5s - loss: 0.4992 - acc: 0.6920 - val_loss: 0.6242 - val_acc: 0.8000\n",
      "Epoch 119/120\n",
      " - 5s - loss: 0.4779 - acc: 0.7181 - val_loss: 0.5798 - val_acc: 0.7667\n",
      "Epoch 120/120\n",
      " - 5s - loss: 0.4727 - acc: 0.7397 - val_loss: 0.7411 - val_acc: 0.7133\n",
      "Training completed in time:  0:09:21.116896\n"
     ]
    }
   ],
   "source": [
    "from datetime import datetime \n",
    "\n",
    "num_epochs = 120\n",
    "\n",
    "start = datetime.now()\n",
    "\n",
    "mod=model.fit(x_train, y_train, epochs=num_epochs, verbose=2,validation_split=0.1,class_weight=weights)\n",
    "\n",
    "\n",
    "duration = datetime.now() - start\n",
    "print(\"Training completed in time: \", duration)"
   ]
  },
  {
   "cell_type": "code",
   "execution_count": 11,
   "metadata": {
    "slideshow": {
     "slide_type": "skip"
    }
   },
   "outputs": [],
   "source": [
    "# saving the model for building realtime prediction\n",
    "model.save(\"model.h5\")"
   ]
  },
  {
   "cell_type": "markdown",
   "metadata": {
    "slideshow": {
     "slide_type": "slide"
    }
   },
   "source": [
    "# MODEL EVALUATION"
   ]
  },
  {
   "cell_type": "code",
   "execution_count": 12,
   "metadata": {
    "slideshow": {
     "slide_type": "slide"
    }
   },
   "outputs": [
    {
     "name": "stdout",
     "output_type": "stream",
     "text": [
      "Training Accuracy:  0.7900737758693401\n",
      "Testing Accuracy:  0.7105614973262032\n",
      "training f1 score:  0.7947596231952957\n",
      "testing f1 score:  0.7204226963491089\n"
     ]
    }
   ],
   "source": [
    "# Evaluating the model on the training and testing set\n",
    "score = model.evaluate(x_train, y_train, verbose=0)\n",
    "print(\"Training Accuracy: \", score[1])\n",
    "\n",
    "score = model.evaluate(x_test, y_test, verbose=0)\n",
    "print(\"Testing Accuracy: \", score[1])\n",
    "\n",
    "from sklearn.metrics import f1_score\n",
    "print(\"training f1 score: \",f1_score(Y_classes,np.argmax(model.predict(x_train),axis=1),average='weighted'))\n",
    "print(\"testing f1 score: \",f1_score(Y_classes_test,np.argmax(model.predict(x_test),axis=1),average='weighted'))"
   ]
  },
  {
   "cell_type": "code",
   "execution_count": 13,
   "metadata": {
    "slideshow": {
     "slide_type": "slide"
    }
   },
   "outputs": [],
   "source": [
    "y_p=model.predict(x_test).argmax(axis=1) # predicting the output"
   ]
  },
  {
   "cell_type": "code",
   "execution_count": 14,
   "metadata": {
    "slideshow": {
     "slide_type": "fragment"
    }
   },
   "outputs": [
    {
     "data": {
      "text/html": [
       "<div>\n",
       "<style scoped>\n",
       "    .dataframe tbody tr th:only-of-type {\n",
       "        vertical-align: middle;\n",
       "    }\n",
       "\n",
       "    .dataframe tbody tr th {\n",
       "        vertical-align: top;\n",
       "    }\n",
       "\n",
       "    .dataframe thead th {\n",
       "        text-align: right;\n",
       "    }\n",
       "</style>\n",
       "<table border=\"1\" class=\"dataframe\">\n",
       "  <thead>\n",
       "    <tr style=\"text-align: right;\">\n",
       "      <th></th>\n",
       "      <th>0</th>\n",
       "      <th>1</th>\n",
       "      <th>2</th>\n",
       "      <th>3</th>\n",
       "    </tr>\n",
       "  </thead>\n",
       "  <tbody>\n",
       "    <tr>\n",
       "      <th>0</th>\n",
       "      <td>205</td>\n",
       "      <td>14</td>\n",
       "      <td>7</td>\n",
       "      <td>21</td>\n",
       "    </tr>\n",
       "    <tr>\n",
       "      <th>1</th>\n",
       "      <td>2</td>\n",
       "      <td>215</td>\n",
       "      <td>19</td>\n",
       "      <td>14</td>\n",
       "    </tr>\n",
       "    <tr>\n",
       "      <th>2</th>\n",
       "      <td>1</td>\n",
       "      <td>84</td>\n",
       "      <td>128</td>\n",
       "      <td>37</td>\n",
       "    </tr>\n",
       "    <tr>\n",
       "      <th>3</th>\n",
       "      <td>14</td>\n",
       "      <td>94</td>\n",
       "      <td>126</td>\n",
       "      <td>515</td>\n",
       "    </tr>\n",
       "  </tbody>\n",
       "</table>\n",
       "</div>"
      ],
      "text/plain": [
       "     0    1    2    3\n",
       "0  205   14    7   21\n",
       "1    2  215   19   14\n",
       "2    1   84  128   37\n",
       "3   14   94  126  515"
      ]
     },
     "execution_count": 14,
     "metadata": {},
     "output_type": "execute_result"
    }
   ],
   "source": [
    "# confusion matrix for testing data\n",
    "from sklearn.metrics import confusion_matrix\n",
    "cm=pd.DataFrame(confusion_matrix(Y_classes_test,y_p))\n",
    "cm"
   ]
  },
  {
   "cell_type": "markdown",
   "metadata": {
    "slideshow": {
     "slide_type": "slide"
    }
   },
   "source": [
    "## Graphs to check Overfitting"
   ]
  },
  {
   "cell_type": "code",
   "execution_count": 15,
   "metadata": {
    "slideshow": {
     "slide_type": "slide"
    }
   },
   "outputs": [
    {
     "data": {
      "image/png": "[encoded data removed]",
      "text/plain": [
       "<Figure size 648x432 with 1 Axes>"
      ]
     },
     "metadata": {
      "needs_background": "light"
     },
     "output_type": "display_data"
    }
   ],
   "source": [
    "# Plot training & validation accuracy to check overfitting\n",
    "import matplotlib.pyplot as plt\n",
    "plt.figure(figsize=(9,6))\n",
    "plt.plot(mod.history['acc'])\n",
    "plt.plot(mod.history['val_acc'])\n",
    "plt.title('Model accuracy')\n",
    "plt.ylabel('Accuracy')\n",
    "plt.xlabel('Epoch')\n",
    "plt.legend(['Train', 'Test'], loc='upper left')\n",
    "plt.show()"
   ]
  },
  {
   "cell_type": "code",
   "execution_count": 16,
   "metadata": {
    "scrolled": false,
    "slideshow": {
     "slide_type": "slide"
    }
   },
   "outputs": [
    {
     "data": {
      "image/png": "[encoded data removed]",
      "text/plain": [
       "<Figure size 648x432 with 1 Axes>"
      ]
     },
     "metadata": {
      "needs_background": "light"
     },
     "output_type": "display_data"
    }
   ],
   "source": [
    "# Plot training & validation loss values\n",
    "plt.figure(figsize=(9,6))\n",
    "plt.plot(mod.history['loss'])\n",
    "plt.plot(mod.history['val_loss'])\n",
    "plt.title('Model loss')\n",
    "plt.ylabel('Loss')\n",
    "plt.xlabel('Epoch')\n",
    "plt.legend(['Train', 'Test'], loc='upper left')\n",
    "plt.show()\n"
   ]
  }
 ],
 "metadata": {
  "celltoolbar": "Slideshow",
  "kernelspec": {
   "display_name": "Python 3",
   "language": "python",
   "name": "python3"
  },
  "language_info": {
   "codemirror_mode": {
    "name": "ipython",
    "version": 3
   },
   "file_extension": ".py",
   "mimetype": "text/x-python",
   "name": "python",
   "nbconvert_exporter": "python",
   "pygments_lexer": "ipython3",
   "version": "3.7.3"
  }
 },
 "nbformat": 4,
 "nbformat_minor": 2
}
